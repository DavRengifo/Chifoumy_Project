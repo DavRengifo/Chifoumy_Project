{
 "cells": [
  {
   "cell_type": "code",
   "execution_count": 1,
   "metadata": {},
   "outputs": [
    {
     "name": "stderr",
     "output_type": "stream",
     "text": [
      "objc[78260]: Class CaptureDelegate is implemented in both /Users/davidr/.pyenv/versions/3.10.6/envs/chifoumy/lib/python3.10/site-packages/cv2/cv2.abi3.so (0x141ea2538) and /Users/davidr/.pyenv/versions/3.10.6/envs/chifoumy/lib/python3.10/site-packages/mediapipe/.dylibs/libopencv_videoio.3.4.16.dylib (0x1244c4860). One of the two will be used. Which one is undefined.\n",
      "objc[78260]: Class CVWindow is implemented in both /Users/davidr/.pyenv/versions/3.10.6/envs/chifoumy/lib/python3.10/site-packages/cv2/cv2.abi3.so (0x141ea2588) and /Users/davidr/.pyenv/versions/3.10.6/envs/chifoumy/lib/python3.10/site-packages/mediapipe/.dylibs/libopencv_highgui.3.4.16.dylib (0x115feca68). One of the two will be used. Which one is undefined.\n",
      "objc[78260]: Class CVView is implemented in both /Users/davidr/.pyenv/versions/3.10.6/envs/chifoumy/lib/python3.10/site-packages/cv2/cv2.abi3.so (0x141ea25b0) and /Users/davidr/.pyenv/versions/3.10.6/envs/chifoumy/lib/python3.10/site-packages/mediapipe/.dylibs/libopencv_highgui.3.4.16.dylib (0x115feca90). One of the two will be used. Which one is undefined.\n",
      "objc[78260]: Class CVSlider is implemented in both /Users/davidr/.pyenv/versions/3.10.6/envs/chifoumy/lib/python3.10/site-packages/cv2/cv2.abi3.so (0x141ea25d8) and /Users/davidr/.pyenv/versions/3.10.6/envs/chifoumy/lib/python3.10/site-packages/mediapipe/.dylibs/libopencv_highgui.3.4.16.dylib (0x115fecab8). One of the two will be used. Which one is undefined.\n"
     ]
    }
   ],
   "source": [
    "import os\n",
    "import cv2\n",
    "import mediapipe as mp\n",
    "import pandas as pd\n",
    "\n",
    "def picture_to_df(picture):\n",
    "    hand_list = []\n",
    "    mp_hands = mp.solutions.hands\n",
    "    with mp_hands.Hands(static_image_mode=True, max_num_hands=2, min_detection_confidence=0.5) as hands:\n",
    "        # Read the image, flip it around y-axis for correct handedness output (see above)\n",
    "        # image = cv2.flip(cv2.imread(picture), 1)\n",
    "        img = Image.open(picture)\n",
    "        img_array = np.array(img)\n",
    "        # image = cv2.flip(img_array, 1)\n",
    "        image = img_array\n",
    "        # st.image(image)\n",
    "        #-------------------------------------\n",
    "        # Convert the BGR image to RGB before processing.\n",
    "        # results = hands.process(cv2.cvtColor(image, cv2.COLOR_BGR2RGB))\n",
    "        results = hands.process(image)\n",
    "        if not results.multi_hand_landmarks:\n",
    "            return \"No hand in this picture!\"\n",
    "        # annotated_image = image.copy()\n",
    "        for hand_landmarks in results.multi_hand_landmarks:\n",
    "            # print((hand_landmarks.landmark))\n",
    "            fingers = {}\n",
    "            for i, finger in enumerate(hand_landmarks.landmark, start=1):\n",
    "                fingers[f'{i}x'] = (finger.x)\n",
    "                fingers[f'{i}y'] = (finger.y)\n",
    "                fingers[f'{i}z'] = (finger.z)\n",
    "            hand_list.append(fingers)\n",
    "        df = pd.DataFrame(hand_list)\n",
    "        df = (df - df.mean()) / df.std()\n",
    "        return df\n"
   ]
  },
  {
   "cell_type": "code",
   "execution_count": 4,
   "metadata": {},
   "outputs": [
    {
     "data": {
      "text/html": [
       "<div>\n",
       "<style scoped>\n",
       "    .dataframe tbody tr th:only-of-type {\n",
       "        vertical-align: middle;\n",
       "    }\n",
       "\n",
       "    .dataframe tbody tr th {\n",
       "        vertical-align: top;\n",
       "    }\n",
       "\n",
       "    .dataframe thead th {\n",
       "        text-align: right;\n",
       "    }\n",
       "</style>\n",
       "<table border=\"1\" class=\"dataframe\">\n",
       "  <thead>\n",
       "    <tr style=\"text-align: right;\">\n",
       "      <th></th>\n",
       "      <th>filename</th>\n",
       "      <th>1x</th>\n",
       "      <th>1y</th>\n",
       "      <th>1z</th>\n",
       "      <th>2x</th>\n",
       "      <th>2y</th>\n",
       "      <th>2z</th>\n",
       "      <th>3x</th>\n",
       "      <th>3y</th>\n",
       "      <th>3z</th>\n",
       "      <th>...</th>\n",
       "      <th>19x</th>\n",
       "      <th>19y</th>\n",
       "      <th>19z</th>\n",
       "      <th>20x</th>\n",
       "      <th>20y</th>\n",
       "      <th>20z</th>\n",
       "      <th>21x</th>\n",
       "      <th>21y</th>\n",
       "      <th>21z</th>\n",
       "      <th>target</th>\n",
       "    </tr>\n",
       "  </thead>\n",
       "  <tbody>\n",
       "    <tr>\n",
       "      <th>0</th>\n",
       "      <td>../raw_data/scissors/dFlxUAypUgfOZqoV.png</td>\n",
       "      <td>0.972548</td>\n",
       "      <td>0.503541</td>\n",
       "      <td>0.000002</td>\n",
       "      <td>0.888238</td>\n",
       "      <td>0.670902</td>\n",
       "      <td>-0.020812</td>\n",
       "      <td>0.766331</td>\n",
       "      <td>0.698617</td>\n",
       "      <td>-0.052920</td>\n",
       "      <td>...</td>\n",
       "      <td>0.682782</td>\n",
       "      <td>0.291712</td>\n",
       "      <td>-0.138871</td>\n",
       "      <td>0.707206</td>\n",
       "      <td>0.337388</td>\n",
       "      <td>-0.104174</td>\n",
       "      <td>0.752084</td>\n",
       "      <td>0.343444</td>\n",
       "      <td>-0.066942</td>\n",
       "      <td>2</td>\n",
       "    </tr>\n",
       "    <tr>\n",
       "      <th>1</th>\n",
       "      <td>../raw_data/scissors/b4Qm4ZK5AAUQo1Ax.png</td>\n",
       "      <td>0.883314</td>\n",
       "      <td>0.585556</td>\n",
       "      <td>0.000001</td>\n",
       "      <td>0.758897</td>\n",
       "      <td>0.738274</td>\n",
       "      <td>-0.000408</td>\n",
       "      <td>0.619175</td>\n",
       "      <td>0.731899</td>\n",
       "      <td>-0.014292</td>\n",
       "      <td>...</td>\n",
       "      <td>0.554995</td>\n",
       "      <td>0.351059</td>\n",
       "      <td>-0.067778</td>\n",
       "      <td>0.577250</td>\n",
       "      <td>0.405897</td>\n",
       "      <td>-0.036943</td>\n",
       "      <td>0.619907</td>\n",
       "      <td>0.421913</td>\n",
       "      <td>-0.008412</td>\n",
       "      <td>2</td>\n",
       "    </tr>\n",
       "  </tbody>\n",
       "</table>\n",
       "<p>2 rows × 65 columns</p>\n",
       "</div>"
      ],
      "text/plain": [
       "                                    filename        1x        1y        1z  \\\n",
       "0  ../raw_data/scissors/dFlxUAypUgfOZqoV.png  0.972548  0.503541  0.000002   \n",
       "1  ../raw_data/scissors/b4Qm4ZK5AAUQo1Ax.png  0.883314  0.585556  0.000001   \n",
       "\n",
       "         2x        2y        2z        3x        3y        3z  ...       19x  \\\n",
       "0  0.888238  0.670902 -0.020812  0.766331  0.698617 -0.052920  ...  0.682782   \n",
       "1  0.758897  0.738274 -0.000408  0.619175  0.731899 -0.014292  ...  0.554995   \n",
       "\n",
       "        19y       19z       20x       20y       20z       21x       21y  \\\n",
       "0  0.291712 -0.138871  0.707206  0.337388 -0.104174  0.752084  0.343444   \n",
       "1  0.351059 -0.067778  0.577250  0.405897 -0.036943  0.619907  0.421913   \n",
       "\n",
       "        21z  target  \n",
       "0 -0.066942       2  \n",
       "1 -0.008412       2  \n",
       "\n",
       "[2 rows x 65 columns]"
      ]
     },
     "execution_count": 4,
     "metadata": {},
     "output_type": "execute_result"
    }
   ],
   "source": [
    "import pandas as pd \n",
    "df = pd.read_csv('../../chifoumy/data/chifoumi-dataset.csv')\n",
    "df.head(2)"
   ]
  },
  {
   "cell_type": "code",
   "execution_count": 6,
   "metadata": {},
   "outputs": [],
   "source": [
    "X = df.drop(['filename', 'target'], axis = 1)\n",
    "y = df['target']\n",
    "\n",
    "from sklearn.model_selection import train_test_split\n",
    "X_train, X_test, y_train, y_test = train_test_split(X, y, test_size=0.3)"
   ]
  },
  {
   "cell_type": "code",
   "execution_count": 7,
   "metadata": {},
   "outputs": [],
   "source": [
    "from sklearn.preprocessing import MinMaxScaler\n",
    "from sklearn.pipeline import make_pipeline\n",
    "from sklearn.svm import SVC\n",
    "from sklearn.compose import ColumnTransformer, make_column_transformer, make_column_selector"
   ]
  },
  {
   "cell_type": "code",
   "execution_count": 8,
   "metadata": {},
   "outputs": [
    {
     "data": {
      "text/html": [
       "<style>#sk-container-id-1 {color: black;background-color: white;}#sk-container-id-1 pre{padding: 0;}#sk-container-id-1 div.sk-toggleable {background-color: white;}#sk-container-id-1 label.sk-toggleable__label {cursor: pointer;display: block;width: 100%;margin-bottom: 0;padding: 0.3em;box-sizing: border-box;text-align: center;}#sk-container-id-1 label.sk-toggleable__label-arrow:before {content: \"▸\";float: left;margin-right: 0.25em;color: #696969;}#sk-container-id-1 label.sk-toggleable__label-arrow:hover:before {color: black;}#sk-container-id-1 div.sk-estimator:hover label.sk-toggleable__label-arrow:before {color: black;}#sk-container-id-1 div.sk-toggleable__content {max-height: 0;max-width: 0;overflow: hidden;text-align: left;background-color: #f0f8ff;}#sk-container-id-1 div.sk-toggleable__content pre {margin: 0.2em;color: black;border-radius: 0.25em;background-color: #f0f8ff;}#sk-container-id-1 input.sk-toggleable__control:checked~div.sk-toggleable__content {max-height: 200px;max-width: 100%;overflow: auto;}#sk-container-id-1 input.sk-toggleable__control:checked~label.sk-toggleable__label-arrow:before {content: \"▾\";}#sk-container-id-1 div.sk-estimator input.sk-toggleable__control:checked~label.sk-toggleable__label {background-color: #d4ebff;}#sk-container-id-1 div.sk-label input.sk-toggleable__control:checked~label.sk-toggleable__label {background-color: #d4ebff;}#sk-container-id-1 input.sk-hidden--visually {border: 0;clip: rect(1px 1px 1px 1px);clip: rect(1px, 1px, 1px, 1px);height: 1px;margin: -1px;overflow: hidden;padding: 0;position: absolute;width: 1px;}#sk-container-id-1 div.sk-estimator {font-family: monospace;background-color: #f0f8ff;border: 1px dotted black;border-radius: 0.25em;box-sizing: border-box;margin-bottom: 0.5em;}#sk-container-id-1 div.sk-estimator:hover {background-color: #d4ebff;}#sk-container-id-1 div.sk-parallel-item::after {content: \"\";width: 100%;border-bottom: 1px solid gray;flex-grow: 1;}#sk-container-id-1 div.sk-label:hover label.sk-toggleable__label {background-color: #d4ebff;}#sk-container-id-1 div.sk-serial::before {content: \"\";position: absolute;border-left: 1px solid gray;box-sizing: border-box;top: 0;bottom: 0;left: 50%;z-index: 0;}#sk-container-id-1 div.sk-serial {display: flex;flex-direction: column;align-items: center;background-color: white;padding-right: 0.2em;padding-left: 0.2em;position: relative;}#sk-container-id-1 div.sk-item {position: relative;z-index: 1;}#sk-container-id-1 div.sk-parallel {display: flex;align-items: stretch;justify-content: center;background-color: white;position: relative;}#sk-container-id-1 div.sk-item::before, #sk-container-id-1 div.sk-parallel-item::before {content: \"\";position: absolute;border-left: 1px solid gray;box-sizing: border-box;top: 0;bottom: 0;left: 50%;z-index: -1;}#sk-container-id-1 div.sk-parallel-item {display: flex;flex-direction: column;z-index: 1;position: relative;background-color: white;}#sk-container-id-1 div.sk-parallel-item:first-child::after {align-self: flex-end;width: 50%;}#sk-container-id-1 div.sk-parallel-item:last-child::after {align-self: flex-start;width: 50%;}#sk-container-id-1 div.sk-parallel-item:only-child::after {width: 0;}#sk-container-id-1 div.sk-dashed-wrapped {border: 1px dashed gray;margin: 0 0.4em 0.5em 0.4em;box-sizing: border-box;padding-bottom: 0.4em;background-color: white;}#sk-container-id-1 div.sk-label label {font-family: monospace;font-weight: bold;display: inline-block;line-height: 1.2em;}#sk-container-id-1 div.sk-label-container {text-align: center;}#sk-container-id-1 div.sk-container {/* jupyter's `normalize.less` sets `[hidden] { display: none; }` but bootstrap.min.css set `[hidden] { display: none !important; }` so we also need the `!important` here to be able to override the default hidden behavior on the sphinx rendered scikit-learn.org. See: https://github.com/scikit-learn/scikit-learn/issues/21755 */display: inline-block !important;position: relative;}#sk-container-id-1 div.sk-text-repr-fallback {display: none;}</style><div id=\"sk-container-id-1\" class=\"sk-top-container\"><div class=\"sk-text-repr-fallback\"><pre>Pipeline(steps=[(&#x27;columntransformer&#x27;,\n",
       "                 ColumnTransformer(transformers=[(&#x27;minmaxscaler&#x27;,\n",
       "                                                  MinMaxScaler(),\n",
       "                                                  &lt;sklearn.compose._column_transformer.make_column_selector object at 0x29a0ec640&gt;)])),\n",
       "                (&#x27;svc&#x27;,\n",
       "                 SVC(C=0.01, coef0=0, gamma=1, kernel=&#x27;poly&#x27;,\n",
       "                     probability=True))])</pre><b>In a Jupyter environment, please rerun this cell to show the HTML representation or trust the notebook. <br />On GitHub, the HTML representation is unable to render, please try loading this page with nbviewer.org.</b></div><div class=\"sk-container\" hidden><div class=\"sk-item sk-dashed-wrapped\"><div class=\"sk-label-container\"><div class=\"sk-label sk-toggleable\"><input class=\"sk-toggleable__control sk-hidden--visually\" id=\"sk-estimator-id-1\" type=\"checkbox\" ><label for=\"sk-estimator-id-1\" class=\"sk-toggleable__label sk-toggleable__label-arrow\">Pipeline</label><div class=\"sk-toggleable__content\"><pre>Pipeline(steps=[(&#x27;columntransformer&#x27;,\n",
       "                 ColumnTransformer(transformers=[(&#x27;minmaxscaler&#x27;,\n",
       "                                                  MinMaxScaler(),\n",
       "                                                  &lt;sklearn.compose._column_transformer.make_column_selector object at 0x29a0ec640&gt;)])),\n",
       "                (&#x27;svc&#x27;,\n",
       "                 SVC(C=0.01, coef0=0, gamma=1, kernel=&#x27;poly&#x27;,\n",
       "                     probability=True))])</pre></div></div></div><div class=\"sk-serial\"><div class=\"sk-item sk-dashed-wrapped\"><div class=\"sk-label-container\"><div class=\"sk-label sk-toggleable\"><input class=\"sk-toggleable__control sk-hidden--visually\" id=\"sk-estimator-id-2\" type=\"checkbox\" ><label for=\"sk-estimator-id-2\" class=\"sk-toggleable__label sk-toggleable__label-arrow\">columntransformer: ColumnTransformer</label><div class=\"sk-toggleable__content\"><pre>ColumnTransformer(transformers=[(&#x27;minmaxscaler&#x27;, MinMaxScaler(),\n",
       "                                 &lt;sklearn.compose._column_transformer.make_column_selector object at 0x29a0ec640&gt;)])</pre></div></div></div><div class=\"sk-parallel\"><div class=\"sk-parallel-item\"><div class=\"sk-item\"><div class=\"sk-label-container\"><div class=\"sk-label sk-toggleable\"><input class=\"sk-toggleable__control sk-hidden--visually\" id=\"sk-estimator-id-3\" type=\"checkbox\" ><label for=\"sk-estimator-id-3\" class=\"sk-toggleable__label sk-toggleable__label-arrow\">minmaxscaler</label><div class=\"sk-toggleable__content\"><pre>&lt;sklearn.compose._column_transformer.make_column_selector object at 0x29a0ec640&gt;</pre></div></div></div><div class=\"sk-serial\"><div class=\"sk-item\"><div class=\"sk-estimator sk-toggleable\"><input class=\"sk-toggleable__control sk-hidden--visually\" id=\"sk-estimator-id-4\" type=\"checkbox\" ><label for=\"sk-estimator-id-4\" class=\"sk-toggleable__label sk-toggleable__label-arrow\">MinMaxScaler</label><div class=\"sk-toggleable__content\"><pre>MinMaxScaler()</pre></div></div></div></div></div></div></div></div><div class=\"sk-item\"><div class=\"sk-estimator sk-toggleable\"><input class=\"sk-toggleable__control sk-hidden--visually\" id=\"sk-estimator-id-5\" type=\"checkbox\" ><label for=\"sk-estimator-id-5\" class=\"sk-toggleable__label sk-toggleable__label-arrow\">SVC</label><div class=\"sk-toggleable__content\"><pre>SVC(C=0.01, coef0=0, gamma=1, kernel=&#x27;poly&#x27;, probability=True)</pre></div></div></div></div></div></div></div>"
      ],
      "text/plain": [
       "Pipeline(steps=[('columntransformer',\n",
       "                 ColumnTransformer(transformers=[('minmaxscaler',\n",
       "                                                  MinMaxScaler(),\n",
       "                                                  <sklearn.compose._column_transformer.make_column_selector object at 0x29a0ec640>)])),\n",
       "                ('svc',\n",
       "                 SVC(C=0.01, coef0=0, gamma=1, kernel='poly',\n",
       "                     probability=True))])"
      ]
     },
     "execution_count": 8,
     "metadata": {},
     "output_type": "execute_result"
    }
   ],
   "source": [
    "model = SVC(kernel= 'poly', gamma = 1, coef0 = 0, C = 0.01, probability = True)\n",
    "scaling = make_column_transformer((MinMaxScaler(), make_column_selector(dtype_include=['float64'])))\n",
    "pipeline = make_pipeline(scaling, model)\n",
    "pipeline"
   ]
  },
  {
   "cell_type": "code",
   "execution_count": 14,
   "metadata": {},
   "outputs": [],
   "source": [
    "pipe = pipeline.fit(X_train, y_train)\n",
    "def prediction (df):\n",
    "    result = pipe.predict(df)\n",
    "    probas = pipe.predict_proba(df)\n",
    "    return result, probas\n",
    "\n",
    "predictions = prediction(X_test)\n",
    "\n",
    "#print (f'probabilité de Pierre : {round(prob[0][0],2)} %')\n",
    "#print (f'probabilité de Feuille : {round(prob[0][1],2)} %')\n",
    "#print (f'probabilité de Ciseaux : {round(prob[0][2],2)} %')"
   ]
  },
  {
   "cell_type": "code",
   "execution_count": 17,
   "metadata": {},
   "outputs": [
    {
     "data": {
      "text/plain": [
       "(tuple,\n",
       " array([0, 2, 0, ..., 1, 0, 2]),\n",
       " array([[9.99739877e-01, 2.24450334e-04, 3.56726636e-05],\n",
       "        [3.71602044e-08, 4.45982587e-08, 9.99999918e-01],\n",
       "        [9.97343918e-01, 1.07512965e-03, 1.58095277e-03],\n",
       "        ...,\n",
       "        [1.48422184e-03, 9.94185445e-01, 4.33033320e-03],\n",
       "        [9.97825708e-01, 1.86476001e-04, 1.98781642e-03],\n",
       "        [1.04090312e-06, 1.24845212e-06, 9.99997711e-01]]))"
      ]
     },
     "execution_count": 17,
     "metadata": {},
     "output_type": "execute_result"
    }
   ],
   "source": [
    "type(predictions), predictions[0], predictions[1]\n"
   ]
  }
 ],
 "metadata": {
  "kernelspec": {
   "display_name": "Python 3 (ipykernel)",
   "language": "python",
   "name": "python3"
  },
  "language_info": {
   "codemirror_mode": {
    "name": "ipython",
    "version": 3
   },
   "file_extension": ".py",
   "mimetype": "text/x-python",
   "name": "python",
   "nbconvert_exporter": "python",
   "pygments_lexer": "ipython3",
   "version": "3.10.6"
  },
  "toc": {
   "base_numbering": 1,
   "nav_menu": {},
   "number_sections": true,
   "sideBar": true,
   "skip_h1_title": false,
   "title_cell": "Table of Contents",
   "title_sidebar": "Contents",
   "toc_cell": false,
   "toc_position": {},
   "toc_section_display": true,
   "toc_window_display": false
  },
  "vscode": {
   "interpreter": {
    "hash": "0c7fb58e30cc909b837b1460b041660da77b995d1ff5b3c722425591f82a6ada"
   }
  }
 },
 "nbformat": 4,
 "nbformat_minor": 2
}
