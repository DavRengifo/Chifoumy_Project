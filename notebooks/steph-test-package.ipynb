{
 "cells": [
  {
   "cell_type": "code",
   "execution_count": 4,
   "metadata": {},
   "outputs": [
    {
     "name": "stdout",
     "output_type": "stream",
     "text": [
      "The autoreload extension is already loaded. To reload it, use:\n",
      "  %reload_ext autoreload\n"
     ]
    }
   ],
   "source": [
    "%load_ext autoreload\n",
    "%autoreload 2"
   ]
  },
  {
   "cell_type": "code",
   "execution_count": 5,
   "metadata": {},
   "outputs": [],
   "source": [
    "import numpy as np\n",
    "import pandas as pd\n",
    "\n",
    "from sklearn.model_selection import train_test_split, cross_val_score\n",
    "from sklearn.metrics import accuracy_score\n",
    "\n",
    "from chifoumy.ml_logic.model import preprocess_and_train, pred\n",
    "from chifoumy.ml_logic.preprocessor import preprocess_features, normalise\n",
    "from chifoumy.ml_logic.registry import load_pipeline"
   ]
  },
  {
   "cell_type": "code",
   "execution_count": 4,
   "metadata": {},
   "outputs": [],
   "source": [
    "# df = pd.read_csv(\"../csv/chifoumi-dataset.csv\")\n",
    "# X = df.drop(['filename', 'target'], axis = 1)\n",
    "# y = df['target']\n",
    "# X_train, X_test, y_train, y_test = train_test_split(X, y, test_size=0.3)"
   ]
  },
  {
   "cell_type": "code",
   "execution_count": 6,
   "metadata": {},
   "outputs": [
    {
     "name": "stdout",
     "output_type": "stream",
     "text": [
      "\n",
      "⭐️ Use case: preprocess and train basic\n",
      "\n",
      "🧪 X preprocessed in a pipeline\n",
      "\n",
      "💪 model entrainé et pipelinisé\n",
      "\u001b[34m\n",
      "Save model to local disk...\u001b[0m\n",
      "\n",
      "💾 pipeline saved\n",
      "\n",
      "✅ preprocess_and_train() done\n"
     ]
    }
   ],
   "source": [
    "X_test, y_test = preprocess_and_train()"
   ]
  },
  {
   "cell_type": "code",
   "execution_count": 7,
   "metadata": {},
   "outputs": [
    {
     "name": "stdout",
     "output_type": "stream",
     "text": [
      "\u001b[34m\n",
      "⏳ Load pipeline from local disk...\u001b[0m\n",
      "\n",
      "✅ model loaded from disk\n",
      "\n",
      "🔮 prediction done [2 3 3 ... 0 0 4] (4168,)\n"
     ]
    },
    {
     "data": {
      "text/plain": [
       "0.9956813819577736"
      ]
     },
     "execution_count": 7,
     "metadata": {},
     "output_type": "execute_result"
    }
   ],
   "source": [
    "y_pred = pred(X_test)\n",
    "accuracy_score(y_test, y_pred)"
   ]
  },
  {
   "cell_type": "code",
   "execution_count": null,
   "metadata": {},
   "outputs": [],
   "source": []
  }
 ],
 "metadata": {
  "kernelspec": {
   "display_name": "Python 3.10.6 64-bit ('shims')",
   "language": "python",
   "name": "python3"
  },
  "language_info": {
   "codemirror_mode": {
    "name": "ipython",
    "version": 3
   },
   "file_extension": ".py",
   "mimetype": "text/x-python",
   "name": "python",
   "nbconvert_exporter": "python",
   "pygments_lexer": "ipython3",
   "version": "3.10.6 (main, Oct 24 2022, 20:40:07) [Clang 14.0.0 (clang-1400.0.29.102)]"
  },
  "toc": {
   "base_numbering": 1,
   "nav_menu": {},
   "number_sections": true,
   "sideBar": true,
   "skip_h1_title": false,
   "title_cell": "Table of Contents",
   "title_sidebar": "Contents",
   "toc_cell": false,
   "toc_position": {},
   "toc_section_display": true,
   "toc_window_display": false
  },
  "vscode": {
   "interpreter": {
    "hash": "0c7fb58e30cc909b837b1460b041660da77b995d1ff5b3c722425591f82a6ada"
   }
  }
 },
 "nbformat": 4,
 "nbformat_minor": 2
}
